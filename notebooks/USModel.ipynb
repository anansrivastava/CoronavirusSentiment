{
 "cells": [
  {
   "cell_type": "code",
   "execution_count": 1,
   "metadata": {},
   "outputs": [],
   "source": [
    "import sys, os\n",
    "import pandas as pd\n",
    "import numpy as np\n",
    "from textblob import TextBlob\n",
    "import seaborn as sns\n",
    "import matplotlib.pyplot as plt\n",
    "\n",
    "sys.path.insert(1, '../scripts')\n",
    "root = os.getcwd()\n",
    "\n",
    "\n",
    "from TwintDataMiner import TwintDataMiner\n",
    "from PandasDataCleaner import PandasDataCleaner\n",
    "from TextBlobSentiment import TextBlobSentiment\n",
    "from Visualisation import Visualisation\n",
    "from GMM import GMM\n"
   ]
  },
  {
   "cell_type": "code",
   "execution_count": 24,
   "metadata": {},
   "outputs": [],
   "source": [
    "tweetsFile = \"../data/final_location_tweets.csv\"\n",
    "tdm = TwintDataMiner()\n",
    "attributes = [\"id\", \"tweet\", \"place\", \"date\"]\n",
    "df = tdm.getPandasDataFrame(attributes, tweetsFile)\n",
    "pdc = PandasDataCleaner()\n",
    "df.shape\n",
    "df.head\n",
    "df = pdc.addGeneralLocation(df)"
   ]
  },
  {
   "cell_type": "code",
   "execution_count": 25,
   "metadata": {},
   "outputs": [],
   "source": [
    "\n",
    "# df = df.groupby('genplace')['id'].nunique()\n",
    "# with pd.option_context('display.max_rows', None, 'display.max_columns', None):  # more options can be specified also\n",
    "#    print(df)"
   ]
  },
  {
   "cell_type": "code",
   "execution_count": 26,
   "metadata": {},
   "outputs": [],
   "source": [
    "states = [\"AL\", \"AK\", \"AZ\", \"AR\", \"CA\", \"CO\", \"CT\", \"DC\", \"DE\", \"FL\", \"GA\",\n",
    "\"HI\", \"ID\", \"IL\", \"IN\", \"IA\", \"KS\", \"KY\", \"LA\", \"ME\", \"MD\",\n",
    "\"MA\", \"MI\", \"MN\", \"MS\", \"MO\", \"MT\", \"NE\", \"NV\", \"NH\", \"NJ\",\n",
    "\"NM\", \"NY\", \"NC\", \"ND\", \"OH\", \"OK\", \"OR\", \"PA\", \"RI\", \"SC\",\n",
    "\"SD\", \"TN\", \"TX\", \"UT\", \"VT\", \"VA\", \"WA\", \"WV\", \"WI\", \"WY\"]\n",
    "df = df.loc[df['genplace'].isin(states)]"
   ]
  },
  {
   "cell_type": "code",
   "execution_count": 27,
   "metadata": {},
   "outputs": [
    {
     "name": "stdout",
     "output_type": "stream",
     "text": [
      "(19971, 5)\n",
      "Detecting language: 19970/19971<bound method NDFrame.head of                         id                                              tweet  \\\n",
      "0      1237392763848556549  How do you feel about #Coachella and #Stagecoa...   \n",
      "1      1237392748426059791  #Coronavirus #COVID19 is a VIRUS - antibacteri...   \n",
      "2      1237392735281115136  maybe the corona virus will finally give me th...   \n",
      "3      1237392694084653056  @DougAndGator971 guys you dont know the true m...   \n",
      "4      1237392669166276609  Bro they released Plague 8 years ago and someo...   \n",
      "...                    ...                                                ...   \n",
      "19966  1237166365087236096  State of Emergency Declared for Florida in Res...   \n",
      "19967  1237166356900057089  @CNN Comes Out And Labels Coronavirus A Pandem...   \n",
      "19968  1237166348687548416  Toilet paper isn't just for #Coronavirus anymo...   \n",
      "19969  1237166322150256641  if you ever used the restrooms at 216,youre im...   \n",
      "19970  1237166282543251456  #Trumpdemic trends nationwide as people vent a...   \n",
      "\n",
      "                     place        date genplace lang  \n",
      "0          Los Angeles, CA  2020-03-10       CA   en  \n",
      "1             Oak Lawn, IL  2020-03-10       IL   en  \n",
      "2       Jeffersonville, IN  2020-03-10       IN   en  \n",
      "3             Chandler, AZ  2020-03-10       AZ   en  \n",
      "4              Phoenix, AZ  2020-03-10       AZ   en  \n",
      "...                    ...         ...      ...  ...  \n",
      "19966      Lake Butler, FL  2020-03-10       FL   en  \n",
      "19967       Richardson, TX  2020-03-10       TX   en  \n",
      "19968  Jasmine Estates, FL  2020-03-10       FL   en  \n",
      "19969      Duncanville, TX  2020-03-10       TX   en  \n",
      "19970     Murfreesboro, TN  2020-03-10       TN   en  \n",
      "\n",
      "[19971 rows x 6 columns]>\n",
      "(18927, 6)\n"
     ]
    }
   ],
   "source": [
    "print(df.shape)\n",
    "df = df.reset_index(drop=True)\n",
    "df  = pdc.detectLanguage(df, 'tweet', 'lang')\n",
    "df = pdc.cleanTweets(df, 'tweet')\n",
    "print(df.head)\n",
    "df = df.loc[df['lang'] == 'en']\n",
    "\n",
    "print(df.shape)"
   ]
  },
  {
   "cell_type": "code",
   "execution_count": 28,
   "metadata": {},
   "outputs": [],
   "source": [
    "saveddf = df.copy()\n",
    "df = saveddf.copy()"
   ]
  },
  {
   "cell_type": "code",
   "execution_count": 29,
   "metadata": {},
   "outputs": [
    {
     "name": "stdout",
     "output_type": "stream",
     "text": [
      "(18927, 6)\n"
     ]
    }
   ],
   "source": [
    "df = saveddf.copy()\n",
    "print(df.shape)"
   ]
  },
  {
   "cell_type": "code",
   "execution_count": 30,
   "metadata": {},
   "outputs": [
    {
     "name": "stdout",
     "output_type": "stream",
     "text": [
      "(18927, 6)\n"
     ]
    }
   ],
   "source": [
    "countDict = df.groupby('genplace').count()['id'].to_dict()\n",
    "sorted_counted_states = (sorted( ((v,k) for k,v in countDict.items()), reverse=True))\n",
    "enough_tweets_states=[]\n",
    "for c,s in sorted_counted_states:\n",
    "    #only include states with over 90 tweets\n",
    "    if(c > 90):\n",
    "        enough_tweets_states.append(s)\n",
    "print(df.shape)\n",
    "df = df.loc[df['genplace'].isin(enough_tweets_states)]"
   ]
  },
  {
   "cell_type": "code",
   "execution_count": 31,
   "metadata": {},
   "outputs": [
    {
     "name": "stdout",
     "output_type": "stream",
     "text": [
      "(18469, 44)\n",
      "1622\n"
     ]
    }
   ],
   "source": [
    "#hoax and science bag of words\n",
    "vocab = ['conspiracy', '5g', 'fake', 'hoax', 'radiation', 'false', 'establishment', 'mainstream', 'media', 'poisoning', 'causes', 'brainwash', 'propaganda', 'disinformation', 'indoctrination', 'gates', 'planned', 'theory', 'science', 'policy', 'medical', 'logic', 'health', 'organisation', 'professional', 'professionals', 'journal', 'journals', 'medicine', 'biology', 'proof', 'proven', 'prove', 'scientist', 'scientists', 'brain', 'brains', 'system', 'academic', 'academics', 'study', 'studies', 'teach', 'teaching']\n",
    "gmm = GMM()\n",
    "bow = gmm.generateBagOfWords(df, 'tweet', vocab=vocab)\n",
    "print(bow.shape)\n",
    "print(np.sum(bow))"
   ]
  },
  {
   "cell_type": "code",
   "execution_count": 32,
   "metadata": {},
   "outputs": [],
   "source": [
    "state_bows = dict()\n",
    "#max function to control noise\n",
    "def maxi(x, amax):\n",
    "    if(x > 0.005):\n",
    "        ratio = x / amax\n",
    "        x = 0.005 * ratio\n",
    "    return x\n",
    "def returnstate(place, state):\n",
    "    if(state in place):\n",
    "        return True\n",
    "    return False\n",
    "for state in enough_tweets_states:\n",
    "    state_bows[state] = []\n",
    "    #get dataframe of tweets from the state\n",
    "    statedf = df[df['genplace'].apply(lambda x: returnstate(x, state))].copy()\n",
    "    splitindex = int(statedf.shape[0] / 5)\n",
    "    #split states tweets into groups\n",
    "    for i in range(5):\n",
    "        #get dataframe with tweets from group\n",
    "        tempdf = statedf[i*splitindex:(i+1)*splitindex].copy()\n",
    "        \n",
    "\n",
    "        tempdf.sort_values(\"id\", inplace=True)\n",
    "    \n",
    "        tempdf.drop_duplicates(subset=[\"tweet\"],inplace=True) \n",
    "        tempdf = tempdf.reset_index(drop=True)\n",
    "\n",
    "        bow = gmm.generateBagOfWords(tempdf, 'tweet', vocab=vocab)\n",
    "        state_tweet_count = tempdf.shape[0]\n",
    "        panicRow = np.sum(bow, axis=0)\n",
    "        if(np.sum(panicRow)):\n",
    "            #proportional bag of words\n",
    "            panicRow = np.true_divide(panicRow, state_tweet_count)\n",
    "\n",
    "            \n",
    "            amax = np.amax(panicRow)            \n",
    "            panicRow = np.array(list(map(lambda x: maxi(x, amax), panicRow)))\n",
    "            state_bows[state] = state_bows[state] + [panicRow]\n",
    "        else:\n",
    "            #if all 0s then true_divide returns NaNs, so make vector with all zeros\n",
    "            panicRow = np.zeros((44, ))\n",
    "            state_bows[state] = state_bows[state] + [panicRow]\n",
    "        "
   ]
  },
  {
   "cell_type": "code",
   "execution_count": 33,
   "metadata": {},
   "outputs": [
    {
     "name": "stdout",
     "output_type": "stream",
     "text": [
      "(192, 44)\n"
     ]
    }
   ],
   "source": [
    "from sklearn.feature_extraction.text import CountVectorizer\n",
    "#remember which index in matrix is for which state\n",
    "state_index_dict = dict()\n",
    "\n",
    "bowMatrix = np.empty((1, len(vocab)), int)\n",
    "\n",
    "index_count = 0\n",
    "for state in enough_tweets_states:\n",
    "    if(state in state_bows):\n",
    "        state_index_dict[state] = []\n",
    "        for i in range(5):\n",
    "            bowMatrix = np.append(bowMatrix, np.reshape(state_bows[state][i], (1, len(vocab))), axis=0)\n",
    "            state_index_dict[state] = state_index_dict[state] + [index_count]\n",
    "            index_count += 1\n",
    "#remove intialisation row\n",
    "bowMatrix = np.delete(bowMatrix, (0), axis=0)\n",
    "\n",
    "#hoax vector\n",
    "controltweet1 = ['conspiracy 5g fake hoax radiation false establishment mainstream media poisoning causes brainwash propaganda disinformation indoctrination gates planned theory']\n",
    "#non hoax vector\n",
    "controltweet2 = ['science policy medical logic health organisation professional professionals journal journals medicine biology proof proven prove scientist scientists brain brains system academic academics study studies teach teaching']\n",
    "count = CountVectorizer(vocabulary=vocab)\n",
    "bag_of_words_bad = count.fit_transform(controltweet1)\n",
    "bow_bad = bag_of_words_bad.toarray()\n",
    "#apply maxi so control vectors dont skew data\n",
    "bow_bad = np.array(list(map(lambda x: maxi(x, 0.4), bow_bad[0])))\n",
    "\n",
    "bag_of_words_good = count.fit_transform(controltweet2)\n",
    "bow_good = bag_of_words_good.toarray()\n",
    "\n",
    "bow_good = np.array(list(map(lambda x: maxi(x, 0.4), bow_good[0])))\n",
    "\n",
    "#add controls vectors to matrix\n",
    "bowMatrix = np.append(bowMatrix, np.reshape(np.true_divide(bow_bad, 2), (1, len(vocab))), axis=0)\n",
    "bowMatrix = np.append(bowMatrix, np.reshape(np.true_divide(bow_good, 2), (1, len(vocab))), axis=0)\n",
    "\n",
    "print(bowMatrix.shape)\n",
    "        "
   ]
  },
  {
   "cell_type": "code",
   "execution_count": 35,
   "metadata": {},
   "outputs": [
    {
     "name": "stdout",
     "output_type": "stream",
     "text": [
      "0.00625\n",
      "30.000000000000004\n",
      "26.739936477553375\n",
      "gaussian iteration\n",
      "1 0\n"
     ]
    },
    {
     "data": {
      "image/png": "[encoded data removed]",
      "text/plain": [
       "<Figure size 432x288 with 1 Axes>"
      ]
     },
     "metadata": {
      "needs_background": "light"
     },
     "output_type": "display_data"
    }
   ],
   "source": [
    "from sklearn.preprocessing import RobustScaler\n",
    "from sklearn.decomposition import PCA\n",
    "from sklearn.mixture import GaussianMixture\n",
    "\n",
    "print(np.amax(bowMatrix))\n",
    "#scale for pca\n",
    "x = RobustScaler().fit_transform(bowMatrix)\n",
    "print(np.amax(x))\n",
    "\n",
    "pca = PCA(2)\n",
    "x = pca.fit_transform(x)\n",
    "print(np.amax(x))\n",
    "correct = False\n",
    "#keep making GMMs until control vectors are in different clusters\n",
    "while(not correct):\n",
    "    print(\"gaussian iteration\")\n",
    "    gmm = GaussianMixture(n_components=2, covariance_type='tied',  max_iter=10).fit(x)\n",
    "    labels = gmm.predict(x)\n",
    "    #probability of each class (e.g. panic and non-panic)\n",
    "    panic = gmm.predict_proba(x)\n",
    "\n",
    "\n",
    "    \n",
    "    \n",
    "    print(labels[-1], labels[-2])\n",
    "    #check if control vectors are equal\n",
    "    if(labels[-1] != labels[-2]):\n",
    "        correct= True\n",
    "        \n",
    "        plt.scatter(x[:, 0], x[:, 1], c=labels, s=40, cmap='viridis')\n",
    "        plt.show()"
   ]
  },
  {
   "cell_type": "code",
   "execution_count": 36,
   "metadata": {},
   "outputs": [],
   "source": [
    "state_hoax_dict = dict()\n",
    "for state in enough_tweets_states:\n",
    "    #count groups classified as hoax sentiment\n",
    "    state_hoax_count = 0\n",
    "    for i in range(5):\n",
    "        state_hoax_count += (labels[state_index_dict[state][i]] == labels[-2])\n",
    "    state_hoax_dict[state] = state_hoax_count\n",
    "    \n",
    "\n"
   ]
  },
  {
   "cell_type": "code",
   "execution_count": 37,
   "metadata": {},
   "outputs": [
    {
     "name": "stdout",
     "output_type": "stream",
     "text": [
      "[[ 2.         31.61710654]\n",
      " [ 0.         52.23468558]\n",
      " [ 2.         32.39060231]\n",
      " [ 1.         49.02194142]\n",
      " [ 0.         51.68765068]\n",
      " [ 0.         38.76175307]\n",
      " [ 0.         48.5778858 ]\n",
      " [ 0.         32.28620279]\n",
      " [ 0.         41.35038665]\n",
      " [ 1.         50.77132605]\n",
      " [ 1.         60.72203369]\n",
      " [ 1.         48.67161647]\n",
      " [ 0.         49.8280947 ]\n",
      " [ 0.         33.90930473]\n",
      " [ 1.         44.42764701]\n",
      " [ 0.          4.07038311]\n",
      " [ 1.         36.83268019]\n",
      " [ 1.         47.49756422]\n",
      " [ 3.         58.08868465]\n",
      " [ 0.         56.94003345]\n",
      " [ 0.         45.50069532]\n",
      " [ 0.         43.25139737]\n",
      " [ 0.         56.77234784]\n",
      " [ 1.         62.08309236]\n",
      " [ 2.         65.32286482]\n",
      " [ 0.         45.54081659]\n",
      " [ 0.         44.9251931 ]\n",
      " [ 0.         40.92691438]\n",
      " [ 2.         54.93933269]\n",
      " [ 1.         39.09403518]\n",
      " [ 0.         47.21818457]\n",
      " [ 0.         62.51963855]\n",
      " [ 4.         56.65458181]\n",
      " [ 0.         51.16206134]\n",
      " [ 1.         58.74735113]\n",
      " [ 0.         60.57410216]\n",
      " [ 0.         57.94103809]\n",
      " [ 0.         40.04251433]]\n"
     ]
    }
   ],
   "source": [
    "#data on us elections\n",
    "presdf = pd.read_csv('../data/1976-2016-president.csv')\n",
    "plotarray = np.zeros((len(enough_tweets_states), 2))\n",
    "for idx, state in enumerate(enough_tweets_states):\n",
    "    #get trump vote share\n",
    "    tempdf = presdf.loc[(presdf['year'] == 2016) & (presdf['state_po'] == state) & (presdf['candidate'] == 'Trump, Donald J.')]\n",
    "    voteshare = (tempdf['candidatevotes'].iloc[0] / tempdf['totalvotes'].iloc[0]) * 100\n",
    "    plotarray[idx, 0] = state_hoax_dict[state]\n",
    "    plotarray[idx, 1] = voteshare\n",
    "\n",
    "print(plotarray)"
   ]
  },
  {
   "cell_type": "code",
   "execution_count": 38,
   "metadata": {},
   "outputs": [
    {
     "data": {
      "image/png": "[encoded data removed]",
      "text/plain": [
       "<Figure size 576x288 with 1 Axes>"
      ]
     },
     "metadata": {
      "needs_background": "light"
     },
     "output_type": "display_data"
    }
   ],
   "source": [
    "\n",
    "y = plotarray[:, 0]\n",
    "z = plotarray[:, 1]\n",
    "plt.figure(figsize=(8,4))\n",
    "plt.scatter(z, y, s=50,color='black',marker='x',linewidths=1)\n",
    "plt.xlabel(\" Trump Vote Share in 2016 Federal Election\", fontsize=13)\n",
    "plt.ylabel(\"Hoax Sentiment\", fontsize=13)\n",
    "plt.show()"
   ]
  },
  {
   "cell_type": "code",
   "execution_count": 45,
   "metadata": {},
   "outputs": [
    {
     "name": "stdout",
     "output_type": "stream",
     "text": [
      "0.19412842484095727\n"
     ]
    }
   ],
   "source": [
    "from scipy.stats import pearsonr\n",
    "p, r = pearsonr(z, y)\n",
    "print(p)"
   ]
  }
 ],
 "metadata": {
  "kernelspec": {
   "display_name": "Python 3",
   "language": "python",
   "name": "python3"
  },
  "language_info": {
   "codemirror_mode": {
    "name": "ipython",
    "version": 3
   },
   "file_extension": ".py",
   "mimetype": "text/x-python",
   "name": "python",
   "nbconvert_exporter": "python",
   "pygments_lexer": "ipython3",
   "version": "3.6.9"
  }
 },
 "nbformat": 4,
 "nbformat_minor": 4
}
