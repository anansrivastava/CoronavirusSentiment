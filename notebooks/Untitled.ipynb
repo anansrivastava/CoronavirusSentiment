{
 "cells": [
  {
   "cell_type": "code",
   "execution_count": null,
   "metadata": {},
   "outputs": [],
   "source": [
    "# Import libraries\n",
    "import pandas as pd\n",
    "import numpy as np\n",
    "import math\n",
    "\n",
    "import geopandas\n",
    "import json\n",
    "\n",
    "from bokeh.io import output_notebook, show, output_file\n",
    "from bokeh.plotting import figure\n",
    "from bokeh.models import GeoJSONDataSource, LinearColorMapper, ColorBar, NumeralTickFormatter\n",
    "from bokeh.palettes import brewer\n",
    "\n",
    "from bokeh.io.doc import curdoc\n",
    "from bokeh.models import Slider, HoverTool, Select\n",
    "from bokeh.layouts import widgetbox, row, column"
   ]
  },
  {
   "cell_type": "code",
   "execution_count": null,
   "metadata": {},
   "outputs": [],
   "source": [
    "neighborhood_data = pd.read_csv(\"SF_Real_Estate_Live/data/neighborhood_data.csv\")"
   ]
  },
  {
   "cell_type": "code",
   "execution_count": null,
   "metadata": {},
   "outputs": [],
   "source": [
    "print(neighborhood_data)"
   ]
  },
  {
   "cell_type": "code",
   "execution_count": null,
   "metadata": {},
   "outputs": [],
   "source": [
    "# Create a function the returns json_data for the year selected by the user\n",
    "def json_data(selectedYear):\n",
    "    yr = selectedYear\n",
    "    \n",
    "    # Pull selected year from neighborhood summary data\n",
    "    df_yr = neighborhood_data[neighborhood_data['year'] == yr]\n",
    "    \n",
    "    # Merge the GeoDataframe object (sf) with the neighborhood summary data (neighborhood)\n",
    "    merged = pd.merge(sf, df_yr, on='subdist_no', how='left')\n",
    "    \n",
    "    # Fill the null values\n",
    "    values = {'year': yr, 'sale_price_count': 0, 'sale_price_mean': 0, 'sale_price_median': 0,\n",
    "              'sf_mean': 0, 'price_sf_mean': 0, 'min_income': 0}\n",
    "    merged = merged.fillna(value=values)\n",
    "    \n",
    "    # Bokeh uses geojson formatting, representing geographical features, with json\n",
    "    # Convert to json\n",
    "    merged_json = json.loads(merged.to_json())\n",
    "    \n",
    "    # Convert to json preferred string-like object \n",
    "    json_data = json.dumps(merged_json)\n",
    "    return json_data\n"
   ]
  },
  {
   "cell_type": "code",
   "execution_count": null,
   "metadata": {},
   "outputs": [],
   "source": [
    "# Create a plotting function\n",
    "def make_plot(field_name):    \n",
    "    # Set the format of the colorbar\n",
    "    min_range = format_df.loc[format_df['field'] == field_name, 'min_range'].iloc[0]\n",
    "    max_range = format_df.loc[format_df['field'] == field_name, 'max_range'].iloc[0]\n",
    "    field_format = format_df.loc[format_df['field'] == field_name, 'format'].iloc[0]\n",
    "\n",
    "    # Instantiate LinearColorMapper that linearly maps numbers in a range, into a sequence of colors.\n",
    "    color_mapper = LinearColorMapper(palette = palette, low = min_range, high = max_range)\n",
    "\n",
    "    # Create color bar.\n",
    "    format_tick = NumeralTickFormatter(format=field_format)\n",
    "    color_bar = ColorBar(color_mapper=color_mapper, label_standoff=18, formatter=format_tick,\n",
    "    border_line_color=None, location = (0, 0))\n",
    "\n",
    "    # Create figure object.\n",
    "    verbage = format_df.loc[format_df['field'] == field_name, 'verbage'].iloc[0]\n",
    "\n",
    "    p = figure(title = verbage + ' by Neighborhood for Single Family Homes in SF by Year - 2009 to 2018', \n",
    "                plot_height = 650, plot_width = 850,\n",
    "                toolbar_location = None)\n",
    "    p.xgrid.grid_line_color = None\n",
    "    p.ygrid.grid_line_color = None\n",
    "    p.axis.visible = False\n",
    "\n",
    "    # Add patch renderer to figure. \n",
    "    p.patches('xs','ys', source = geosource, fill_color = {'field' : field_name, 'transform' : color_mapper},\n",
    "            line_color = 'black', line_width = 0.25, fill_alpha = 1)\n",
    "    \n",
    "    # Specify color bar layout.\n",
    "    p.add_layout(color_bar, 'right')\n",
    "\n",
    "    # Add the hover tool to the graph\n",
    "    p.add_tools(hover)\n",
    "    return p\n"
   ]
  },
  {
   "cell_type": "code",
   "execution_count": null,
   "metadata": {},
   "outputs": [],
   "source": [
    "# Read the geojson map file for Realtor Neighborhoods into a GeoDataframe object\n",
    "sf = geopandas.read_file('SF_Real_Estate_Live/data/Realtor Neighborhoods.geojson')\n",
    "\n",
    "# Set the Coordinate Referance System (crs) for projections\n",
    "# ESPG code 4326 is also referred to as WGS84 lat-long projection\n",
    "sf.crs = {'init': 'epsg:4326'}\n",
    "\n",
    "# Rename columns in geojson map file\n",
    "sf = sf.rename(columns={'geometry': 'geometry','nbrhood':'neighborhood_name', 'nid': 'subdist_no'}).set_geometry('geometry')\n",
    "\n",
    "# Change neighborhood id (subdist_no) for correct code for Mount Davidson Manor and for parks\n",
    "sf.loc[sf['neighborhood_name'] == 'Mount Davidson Manor', 'subdist_no'] = '4n'\n",
    "sf.loc[sf['neighborhood_name'] == 'Golden Gate Park', 'subdist_no'] = '12a'\n",
    "sf.loc[sf['neighborhood_name'] == 'Presidio', 'subdist_no'] = '12b'\n",
    "sf.loc[sf['neighborhood_name'] == 'Lincoln Park', 'subdist_no'] = '12c'\n",
    "\n",
    "sf.sort_values(by=['subdist_no'])"
   ]
  },
  {
   "cell_type": "code",
   "execution_count": null,
   "metadata": {},
   "outputs": [],
   "source": []
  }
 ],
 "metadata": {
  "kernelspec": {
   "display_name": "Python 3",
   "language": "python",
   "name": "python3"
  },
  "language_info": {
   "codemirror_mode": {
    "name": "ipython",
    "version": 3
   },
   "file_extension": ".py",
   "mimetype": "text/x-python",
   "name": "python",
   "nbconvert_exporter": "python",
   "pygments_lexer": "ipython3",
   "version": "3.7.6"
  }
 },
 "nbformat": 4,
 "nbformat_minor": 4
}
