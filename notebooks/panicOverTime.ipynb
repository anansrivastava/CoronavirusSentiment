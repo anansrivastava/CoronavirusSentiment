{
 "cells": [
  {
   "cell_type": "code",
   "execution_count": 37,
   "metadata": {},
   "outputs": [],
   "source": [
    "import sys, os\n",
    "import pandas as pd\n",
    "import numpy as np\n",
    "from textblob import TextBlob\n",
    "import seaborn as sns\n",
    "import matplotlib.pyplot as plt\n",
    "\n",
    "sys.path.insert(1, '../scripts')\n",
    "root = os.getcwd()\n",
    "\n",
    "from TwintDataMiner import TwintDataMiner\n",
    "from PandasDataCleaner import PandasDataCleaner\n",
    "from TextBlobSentiment import TextBlobSentiment\n",
    "from Visualisation import Visualisation\n",
    "from GMM import GMM"
   ]
  },
  {
   "cell_type": "code",
   "execution_count": 38,
   "metadata": {},
   "outputs": [
    {
     "name": "stdout",
     "output_type": "stream",
     "text": [
      "../data/Final/before/tweets_march_2020_03_10_01-00-00.csv\n",
      "../data/Final/before/tweets_march_2020_03_10_02-00-00.csv\n",
      "../data/Final/before/tweets_march_2020_03_10_03-00-00.csv\n",
      "../data/Final/before/tweets_march_2020_03_10_04-00-00.csv\n",
      "../data/Final/before/tweets_march_2020_03_10_05-00-00.csv\n",
      "../data/Final/before/tweets_march_2020_03_10_06-00-00.csv\n",
      "../data/Final/before/tweets_march_2020_03_10_07-00-00.csv\n",
      "../data/Final/before/tweets_march_2020_03_10_08-00-00.csv\n",
      "../data/Final/before/tweets_march_2020_03_10_09-00-00.csv\n",
      "../data/Final/before/tweets_march_2020_03_10_10-00-00.csv\n",
      "../data/Final/before/tweets_march_2020_03_10_11-00-00.csv\n",
      "../data/Final/before/tweets_march_2020_03_10_12-00-00.csv\n",
      "../data/Final/before/tweets_march_2020_03_10_13-00-00.csv\n",
      "../data/Final/before/tweets_march_2020_03_10_14-00-00.csv\n",
      "../data/Final/before/tweets_march_2020_03_10_15-00-00.csv\n"
     ]
    }
   ],
   "source": [
    "tdm = TwintDataMiner()\n",
    "attributes = [\"id\", \"tweet\", \"place\", \"date\"]\n",
    "\n",
    "before_df = pd.DataFrame()\n",
    "\n",
    "# before\n",
    "for i in range(1, 16):\n",
    "    if i < 10:\n",
    "        path = f\"../data/Final/before/tweets_march_2020_03_10_0{i}-00-00.csv\"\n",
    "    else:\n",
    "        path = f\"../data/Final/before/tweets_march_2020_03_10_{i}-00-00.csv\"\n",
    "\n",
    "    try:\n",
    "        before_df = before_df.append(tdm.getPandasDataFrame(attributes, path))\n",
    "    except FileNotFoundError:\n",
    "        print(path)\n",
    "        pass\n",
    "        \n",
    "# tweetsFile = \"../data/1000TweetsPerDay.csv\""
   ]
  },
  {
   "cell_type": "code",
   "execution_count": 19,
   "metadata": {},
   "outputs": [
    {
     "name": "stdout",
     "output_type": "stream",
     "text": [
      "(553292, 4)\n"
     ]
    },
    {
     "data": {
      "text/plain": [
       "<bound method NDFrame.head of                         id                                              tweet  \\\n",
       "0                       id                                              tweet   \n",
       "1      1237181373946966018  Trump discusses economics surrounding coronavi...   \n",
       "2      1237181373896671232  MLB's locker room ban is first step in dealing...   \n",
       "3      1237181372898344960  Oil prices plunge as coronavirus fears soar an...   \n",
       "4      1237181372579618817  As governments and companies try to reduce the...   \n",
       "...                    ...                                                ...   \n",
       "56613  1237378894258483200  Doctor in Italy gives emotional account of wor...   \n",
       "56614  1237378894199762944   https://gazetacentral.blogspot.com/2020/03/os...   \n",
       "56615  1237378894023581696  Great example of global youth playing importan...   \n",
       "56616  1237378893713203202  #Awareness 😷 🇬🇧 Sixth UK coronavirus death con...   \n",
       "56617  1237378893683793922  Yo creo que a este de ha atacado el Coronaviru...   \n",
       "\n",
       "                              place        date  \n",
       "0                             place        date  \n",
       "1                                    2020-03-10  \n",
       "2                                    2020-03-10  \n",
       "3                                    2020-03-10  \n",
       "4                                    2020-03-10  \n",
       "...                             ...         ...  \n",
       "56613                                2020-03-10  \n",
       "56614                                2020-03-10  \n",
       "56615                                2020-03-10  \n",
       "56616  Newcastle Upon Tyne, England  2020-03-10  \n",
       "56617                                2020-03-10  \n",
       "\n",
       "[553292 rows x 4 columns]>"
      ]
     },
     "execution_count": 19,
     "metadata": {},
     "output_type": "execute_result"
    }
   ],
   "source": [
    "print(before_df.shape)\n",
    "before_df.head"
   ]
  },
  {
   "cell_type": "code",
   "execution_count": 20,
   "metadata": {},
   "outputs": [
    {
     "name": "stdout",
     "output_type": "stream",
     "text": [
      "../data/Final/after/tweets_march_2020_03_12_01-00-00.csv\n",
      "../data/Final/after/tweets_march_2020_03_12_05-00-00.csv\n",
      "../data/Final/after/tweets_march_2020_03_12_06-00-00.csv\n",
      "../data/Final/after/tweets_march_2020_03_12_07-00-00.csv\n",
      "../data/Final/after/tweets_march_2020_03_12_08-00-00.csv\n",
      "../data/Final/after/tweets_march_2020_03_12_09-00-00.csv\n",
      "../data/Final/after/tweets_march_2020_03_12_10-00-00.csv\n"
     ]
    }
   ],
   "source": [
    "after_df = pd.DataFrame()\n",
    "\n",
    "# after\n",
    "for i in range(1, 24):\n",
    "    if i < 10:\n",
    "        path = f\"../data/Final/after/tweets_march_2020_03_12_0{i}-00-00.csv\"\n",
    "    else:\n",
    "        path = f\"../data/Final/after/tweets_march_2020_03_12_{i}-00-00.csv\"\n",
    "\n",
    "    try:\n",
    "        after_df = after_df.append(tdm.getPandasDataFrame(attributes, path))\n",
    "    except FileNotFoundError:\n",
    "        print(path)\n",
    "        pass"
   ]
  },
  {
   "cell_type": "code",
   "execution_count": 21,
   "metadata": {},
   "outputs": [
    {
     "name": "stdout",
     "output_type": "stream",
     "text": [
      "(1049371, 4)\n"
     ]
    },
    {
     "data": {
      "text/plain": [
       "<bound method NDFrame.head of                         id                                              tweet  \\\n",
       "0                       id                                              tweet   \n",
       "1      1237921249482797056  not tom hanks having the corona virus i'll som...   \n",
       "2      1237921249445240832  #coronavirus #virus #sickpeople  https://www.i...   \n",
       "3      1237921249445232640                   Netflix and chills. #coronavirus   \n",
       "4      1237921249277468673  en 1 semana y media nos contagiamos de coronav...   \n",
       "...                    ...                                                ...   \n",
       "65996  1238230727352881160  Coronavirus: al carnaval de Basilea se lo llev...   \n",
       "65997  1238230727298334722  Emergenza Coronavirus. Il tecnico dell'Arsenal...   \n",
       "65998  1238230727260622848  Eventos nacionais e internacionais são cancela...   \n",
       "65999  1238230727126384640  no que capaz me soplas y me contagias el coron...   \n",
       "66000  1238230727126327298  Coronavirus is getting serious now. This isn’t...   \n",
       "\n",
       "       place        date  \n",
       "0      place        date  \n",
       "1             2020-03-12  \n",
       "2             2020-03-12  \n",
       "3             2020-03-12  \n",
       "4             2020-03-12  \n",
       "...      ...         ...  \n",
       "65996         2020-03-12  \n",
       "65997         2020-03-12  \n",
       "65998         2020-03-12  \n",
       "65999         2020-03-12  \n",
       "66000         2020-03-12  \n",
       "\n",
       "[1049371 rows x 4 columns]>"
      ]
     },
     "execution_count": 21,
     "metadata": {},
     "output_type": "execute_result"
    }
   ],
   "source": [
    "print(after_df.shape)\n",
    "after_df.head"
   ]
  },
  {
   "cell_type": "code",
   "execution_count": 22,
   "metadata": {},
   "outputs": [
    {
     "name": "stdout",
     "output_type": "stream",
     "text": [
      "(553292, 4)\n",
      "----\n",
      "(1049371, 4)\n"
     ]
    }
   ],
   "source": [
    "before_df.drop_duplicates(subset='id')\n",
    "print(before_df.shape)\n",
    "print(\"----\")\n",
    "after_df.drop_duplicates(subset='id')\n",
    "print(after_df.shape)"
   ]
  },
  {
   "cell_type": "code",
   "execution_count": 23,
   "metadata": {},
   "outputs": [
    {
     "name": "stdout",
     "output_type": "stream",
     "text": [
      "Detecting language: 89956/89957"
     ]
    }
   ],
   "source": [
    "def cleandf(df):\n",
    "    pdc = PandasDataCleaner()\n",
    "    \n",
    "    df  = pdc.detectLanguage(df, 'tweet', 'lang') \n",
    "    df = df.loc[df['lang'] == 'en']\n",
    "    df = df.reset_index(drop=True)\n",
    "    return df\n",
    "\n",
    "df = cleandf(df)"
   ]
  },
  {
   "cell_type": "code",
   "execution_count": 11,
   "metadata": {},
   "outputs": [],
   "source": [
    "vocab =['PPE',\n",
    " 'afraid',\n",
    " 'aggravation',\n",
    " 'air',\n",
    " 'alarmed',\n",
    " 'alarming',\n",
    " 'ante la crisis',\n",
    " 'anxiety',\n",
    " 'anxious',\n",
    " 'apprehensive',\n",
    " 'atmosphere',\n",
    " 'brutal',\n",
    " 'chaos',\n",
    " 'chaotic',\n",
    " 'charity',\n",
    " 'clean air',\n",
    " 'clean water',\n",
    " 'comfort',\n",
    " 'coronavirus fear',\n",
    " 'crisis',\n",
    " 'danger',\n",
    " 'dangerous',\n",
    " 'dead',\n",
    " 'death',\n",
    " 'disaster',\n",
    " 'disastrous',\n",
    " 'distress',\n",
    " 'distressed',\n",
    " \"don't panic\",\n",
    " 'donations',\n",
    " 'earth',\n",
    " 'encourage',\n",
    " 'encouraging',\n",
    " 'environment',\n",
    " 'evil',\n",
    " 'exaggerate',\n",
    " 'exaggerating',\n",
    " 'exaggeration',\n",
    " 'faint',\n",
    " 'fantastic',\n",
    " 'fearful',\n",
    " 'fearschaos',\n",
    " 'fighter',\n",
    " 'fitness',\n",
    " 'flabbergast',\n",
    " 'flabbergasted',\n",
    " 'flatten',\n",
    " 'food wastage',\n",
    " 'freaked',\n",
    " 'free',\n",
    " 'fright',\n",
    " 'frightened',\n",
    " 'genocide',\n",
    " 'gloves',\n",
    " 'government funds',\n",
    " 'gratitude',\n",
    " 'grief',\n",
    " 'grievance',\n",
    " 'gruesome',\n",
    " 'happy',\n",
    " 'harm',\n",
    " 'healing',\n",
    " 'health issue',\n",
    " 'heartbreaking',\n",
    " 'hell',\n",
    " 'helpless',\n",
    " 'honor',\n",
    " 'hope',\n",
    " 'horrendous',\n",
    " 'horrific',\n",
    " 'horrify',\n",
    " 'horrifying',\n",
    " 'hospital',\n",
    " 'humanity',\n",
    " 'impovement',\n",
    " 'improving',\n",
    " 'kill',\n",
    " 'killed',\n",
    " 'killingthreat',\n",
    " 'kills',\n",
    " 'life-threatening',\n",
    " 'masks',\n",
    " 'meditation',\n",
    " 'mild',\n",
    " 'murder',\n",
    " 'negative',\n",
    " 'nervous',\n",
    " 'not panic',\n",
    " 'not serious',\n",
    " 'nurses',\n",
    " 'optimism',\n",
    " 'optimistic',\n",
    " 'overcome',\n",
    " 'overreact',\n",
    " 'overreacted',\n",
    " 'overreacting',\n",
    " 'ozone',\n",
    " 'panic',\n",
    " 'panick',\n",
    " 'panicked',\n",
    " 'panicking',\n",
    " 'panicky',\n",
    " 'paranoid',\n",
    " 'pasta',\n",
    " 'phobia',\n",
    " 'positive',\n",
    " 'problem',\n",
    " 'progress',\n",
    " 'promise',\n",
    " 'promosing',\n",
    " 'protect',\n",
    " 'proud',\n",
    " 'quality',\n",
    " 'ran out',\n",
    " 'rattle',\n",
    " 'rattled',\n",
    " 'recover',\n",
    " 'recovery',\n",
    " 'relief',\n",
    " 'respect',\n",
    " 'rice',\n",
    " 'risk',\n",
    " 'sad',\n",
    " 'sadness',\n",
    " 'scared',\n",
    " 'scarefear',\n",
    " 'scarier',\n",
    " 'scariest',\n",
    " 'scarily',\n",
    " 'shock',\n",
    " 'shocked',\n",
    " 'shocking',\n",
    " 'shockingly',\n",
    " 'spanish flu',\n",
    " 'strength',\n",
    " 'strong',\n",
    " 'stronger',\n",
    " 'successfully',\n",
    " 'support',\n",
    " 'surreal',\n",
    " 'terrible',\n",
    " 'terror',\n",
    " 'tests',\n",
    " 'thank you',\n",
    " 'thanks',\n",
    " 'threatening',\n",
    " 'together',\n",
    " 'toilet paper',\n",
    " 'tragic',\n",
    " 'travel alert',\n",
    " 'trust',\n",
    " 'unbearable',\n",
    " 'unhygienic',\n",
    " 'unnerve',\n",
    " 'unnerved',\n",
    " 'unnerving',\n",
    " 'unserious',\n",
    " 'upset',\n",
    " 'upseting',\n",
    " 'upsets',\n",
    " 'upsettingly',\n",
    " 'vaccine',\n",
    " 'warned'\n",
    " 'warning',\n",
    " 'wonderful',\n",
    " 'worried',\n",
    " 'worryingly',\n",
    " 'worry',]"
   ]
  },
  {
   "cell_type": "code",
   "execution_count": 150,
   "metadata": {},
   "outputs": [
    {
     "name": "stdout",
     "output_type": "stream",
     "text": [
      "(440, 167)\n",
      "[[0 0 0 ... 0 0 0]\n",
      " [0 0 0 ... 0 0 1]\n",
      " [0 0 0 ... 0 0 0]\n",
      " ...\n",
      " [0 0 0 ... 0 0 0]\n",
      " [0 0 0 ... 0 0 0]\n",
      " [0 0 0 ... 0 0 1]]\n"
     ]
    }
   ],
   "source": [
    "bowMatrix = np.empty((1, len(vocab)), int)\n",
    "gmm = GMM()\n",
    "#generate bag of words for each day and add to matrix\n",
    "for j in range(1,5):\n",
    "    for i in range(1,32):\n",
    "        if(not((j == 1 and i < 10) or (j == 2 and i > 29) or (j == 4 and i > 6))):\n",
    "            date = \"2020-0\" + str(j) + \"-\" + str(i).zfill(2)\n",
    "            tempdf = df[df.date == date].copy()\n",
    "            tempdf = tempdf.reset_index(drop=True)\n",
    "\n",
    "            tempdf.sort_values(\"id\", inplace=True) \n",
    "  \n",
    "            # dropping duplicate values \n",
    "            tempdf.drop_duplicates(subset=[\"tweet\"],inplace=True) \n",
    "            #pdc = PandasDataCleaner()\n",
    "            #tempdf  = pdc.detectLanguage(tempdf, 'tweet', 'lang')\n",
    "            #tempdf = tempdf.loc[tempdf['lang'] == 'en']\n",
    "            #tempdf = pdc.cleanTweets(tempdf, 'tweet')\n",
    "            for i in range(5):\n",
    "                smalldf =tempdf[i*50:(i+1)*50].copy()\n",
    "                bow = gmm.generateBagOfWords(smalldf, 'tweet', vocab=vocab)\n",
    "                #get total bag of words for day\n",
    "                panicRow = np.sum(bow, axis=0)\n",
    "                bowMatrix = np.append(bowMatrix, np.reshape(panicRow, (1, len(vocab))), axis=0)\n",
    "            \n",
    "            \n",
    "            \n",
    "#delete row created for initialisation          \n",
    "bowMatrix = np.delete(bowMatrix, (0), axis=0)\n",
    "print(bowMatrix.shape)\n",
    "print(bowMatrix)\n"
   ]
  },
  {
   "cell_type": "code",
   "execution_count": 183,
   "metadata": {},
   "outputs": [
    {
     "name": "stdout",
     "output_type": "stream",
     "text": [
      "[[0. 0. 0. ... 0. 0. 0.]\n",
      " [0. 0. 0. ... 0. 0. 1.]\n",
      " [0. 0. 0. ... 0. 0. 0.]\n",
      " ...\n",
      " [0. 0. 0. ... 0. 0. 0.]\n",
      " [0. 0. 0. ... 0. 0. 1.]\n",
      " [0. 0. 0. ... 0. 0. 0.]]\n"
     ]
    }
   ],
   "source": [
    "from sklearn.feature_extraction.text import CountVectorizer\n",
    "\n",
    "#panic words\n",
    "controltweet1 = ['death disaster scared unbearable upset worry terror']# terrible sad scarier risk problem']# negative panic panicked helpless harm grief fright fearful distress distressed crisis chaos afraid positive hope']\n",
    "#non panic words\n",
    "controltweet2 = ['recovery optimistic humanity comfort encourage wonderful trust charity clean encourage']# encouraging fantastic gratitude healing hope humanity improvement improving optimism positive recover strength support successfully']\n",
    "count = CountVectorizer(vocabulary=vocab)\n",
    "bag_of_words_bad = count.fit_transform(controltweet1)\n",
    "bow_bad = bag_of_words_bad.toarray()\n",
    "#apply maxi function so control tweet doesn't skew data massively\n",
    "#bow_bad = np.array(list(map(lambda x: maxi(x, 1), bow_bad[0])))\n",
    "\n",
    "bag_of_words_good = count.fit_transform(controltweet2)\n",
    "bow_good = bag_of_words_good.toarray()\n",
    "\n",
    "#bow_good = np.array(list(map(lambda x: maxi(x, 1), bow_good[0])))\n",
    "\n",
    "#add control vectors to matrix for classification\n",
    "bowMatrix = np.append(bowMatrix, np.reshape(bow_bad, (1, len(vocab))), axis=0)\n",
    "bowMatrix = np.append(bowMatrix, np.reshape(bow_good, (1, len(vocab))), axis=0)\n",
    "print(bowMatrix)\n"
   ]
  },
  {
   "cell_type": "code",
   "execution_count": 184,
   "metadata": {},
   "outputs": [
    {
     "name": "stdout",
     "output_type": "stream",
     "text": [
      "modelling\n"
     ]
    },
    {
     "data": {
      "image/png": "[encoded data removed]",
      "text/plain": [
       "<Figure size 432x288 with 1 Axes>"
      ]
     },
     "metadata": {
      "needs_background": "light"
     },
     "output_type": "display_data"
    }
   ],
   "source": [
    "done = False\n",
    "while(not done):\n",
    "    print(\"modelling\")\n",
    "    panic = gmm.modelFromBow(bowMatrix)\n",
    "    if(round(panic[-1][0]) != round(panic[-2][0])):\n",
    "       done = True"
   ]
  },
  {
   "cell_type": "code",
   "execution_count": 185,
   "metadata": {},
   "outputs": [
    {
     "name": "stdout",
     "output_type": "stream",
     "text": [
      "[1. 0.]\n",
      "[0.01529875 0.98470125]\n"
     ]
    }
   ],
   "source": [
    "print(panic[-1])\n",
    "print(panic[-2])"
   ]
  },
  {
   "cell_type": "code",
   "execution_count": 189,
   "metadata": {},
   "outputs": [
    {
     "name": "stdout",
     "output_type": "stream",
     "text": [
      "[0 0 0 0 0 0 0 0 0 0 0 0 0 0 0 0 0 0 0 0 0 0 0 0 0 0 0 0 0 0 0 0 0 0 0 0 0\n",
      " 0 0 0 0 0 0 0 0 0 0 0 0 0 0 0 1 0 0 0 0 0 0 0 0 0 0 0 0 0 0 0 0 0 0 0 0 0\n",
      " 0 0 0 0 0 0 0 0 0 0 0 0 0 0 0 0 0 1 0 0 0 0 0 0 1 0 0 0 0 0 0 0 0 0 0 0 0\n",
      " 0 0 0 0 0 0 0 0 0 0 0 0 0 0 0 0 0 1 0 1 0 0 0 0 0 1 1 0 0 0 0 0 1 0 0 0 0\n",
      " 1 0 0 0 0 0 0 0 0 0 0 0 0 0 0 0 1 0 0 0 0 0 0 1 0 0 0 0 0 0 0 0 0 0 0 0 0\n",
      " 0 0 0 0 0 0 0 0 0 0 0 0 0 0 0 0 0 0 0 0 0 0 0 0 0 0 1 0 0 0 0 0 0 0 0 0 0\n",
      " 0 0 0 0 0 0 0 0 1 1 0 0 1 0 0 0 0 0 0 0 0 0 0 0 0 0 0 0 0 0 0 0 0 0 1 0 0\n",
      " 0 0 0 0 0 0 0 0 0 0 0 0 0 0 0 0 0 0 0 0 0 0 0 0 0 0 0 0 1 0 0 0 0 0 0 0 1\n",
      " 0 0 0 0 0 0 0 0 0 0 1 0 1 0 1 0 0 0 0 1 0 1 0 1 0 0 0 0 0 0 0 0 0 0 0 1 0\n",
      " 0 0 1 1 0 0 0 0 1 0 0 0 0 1 1 0 0 0 0 0 0 1 0 0 0 1 0 0 1 1 0 0 1 1 1 0 1\n",
      " 0 0 0 1 0 1 0 1 0 0 0 1 1 1 1 0 0 0 1 1 1 1 0 0 0 0 0 1 0 0 0 0 0 0 0 0 1\n",
      " 0 1 0 0 0 1 1 0 0 1 0 0 1 0 0 0 0 1 0 0 0 0 1 0 0 0 0 0 0 0 1 0 0 0 1 0 1]\n",
      "444\n"
     ]
    }
   ],
   "source": [
    "onePanic = np.round(panic[:, 0])\n",
    "onePanic = np.array(list(map(lambda x: int(x == onePanic[-1]), onePanic)))[:-2]\n",
    "print(onePanic)\n",
    "print(len(onePanic))"
   ]
  },
  {
   "cell_type": "code",
   "execution_count": 190,
   "metadata": {},
   "outputs": [],
   "source": [
    "finalPanic = []\n",
    "for i in range(int(len(onePanic) / 5)):\n",
    "    finalPanic.append(sum(onePanic[i*5: (i+1)*5]))"
   ]
  },
  {
   "cell_type": "code",
   "execution_count": 461,
   "metadata": {},
   "outputs": [
    {
     "name": "stdout",
     "output_type": "stream",
     "text": [
      "    index        Date     FTSE 100\n",
      "0       6  2020-01-10  7587.850000\n",
      "1       0  2020-01-11  7597.766667\n",
      "2       0  2020-01-12  7607.683333\n",
      "3       7  2020-01-13  7617.600000\n",
      "4       8  2020-01-14  7622.350000\n",
      "5       9  2020-01-15  7642.800000\n",
      "6      10  2020-01-16  7609.810000\n",
      "7      11  2020-01-17  7674.560000\n",
      "8       0  2020-01-18  7666.853333\n",
      "9       0  2020-01-19  7659.146667\n",
      "10     12  2020-01-20  7651.440000\n",
      "11     13  2020-01-21  7610.700000\n",
      "12     14  2020-01-22  7571.920000\n",
      "13     15  2020-01-23  7507.670000\n",
      "14     16  2020-01-24  7585.980000\n",
      "15      0  2020-01-25  7528.003333\n",
      "16      0  2020-01-26  7470.026667\n",
      "17     17  2020-01-27  7412.050000\n",
      "18     18  2020-01-28  7480.690000\n",
      "19     19  2020-01-29  7483.570000\n",
      "20     20  2020-01-30  7381.960000\n",
      "21     21  2020-01-31  7286.010000\n",
      "22      0  2020-02-01  7299.443333\n",
      "23      0  2020-02-02  7312.876667\n",
      "24     22  2020-02-03  7326.310000\n",
      "25     23  2020-02-04  7439.820000\n",
      "26     24  2020-02-05  7482.480000\n",
      "27     25  2020-02-06  7504.790000\n",
      "28     26  2020-02-07  7466.700000\n",
      "29      0  2020-02-08  7460.093333\n",
      "30      0  2020-02-09  7453.486667\n",
      "31     27  2020-02-10  7446.880000\n",
      "32     28  2020-02-11  7499.440000\n",
      "33     29  2020-02-12  7534.370000\n",
      "34     30  2020-02-13  7452.030000\n",
      "35     31  2020-02-14  7409.130000\n",
      "36      0  2020-02-15  7417.170000\n",
      "37      0  2020-02-16  7425.210000\n",
      "38     32  2020-02-17  7433.250000\n",
      "39     33  2020-02-18  7382.010000\n",
      "40     34  2020-02-19  7457.020000\n",
      "41     35  2020-02-20  7436.640000\n",
      "42     36  2020-02-21  7403.920000\n",
      "43      0  2020-02-22  7321.556667\n",
      "44      0  2020-02-23  7239.193333\n",
      "45     37  2020-02-24  7156.830000\n",
      "46     38  2020-02-25  7017.880000\n",
      "47     39  2020-02-26  7042.470000\n",
      "48     40  2020-02-27  6796.400000\n",
      "49     41  2020-02-28  6580.610000\n",
      "50      0  2020-02-29  6605.370000\n",
      "51      0  2020-03-01  6630.130000\n",
      "52     42  2020-03-02  6654.890000\n",
      "53     43  2020-03-03  6718.200000\n",
      "54     44  2020-03-04  6815.590000\n",
      "55     45  2020-03-05  6705.430000\n",
      "56     46  2020-03-06  6462.550000\n",
      "57      0  2020-03-07  6296.956667\n",
      "58      0  2020-03-08  6131.363333\n",
      "59     47  2020-03-09  5965.770000\n",
      "60     48  2020-03-10  5960.230000\n",
      "61     49  2020-03-11  5876.520000\n",
      "62     50  2020-03-12  5237.480000\n",
      "63     51  2020-03-13  5366.110000\n",
      "64      0  2020-03-14  5294.433333\n",
      "65      0  2020-03-15  5222.756667\n",
      "66     52  2020-03-16  5151.080000\n",
      "67     53  2020-03-17  5294.900000\n",
      "68     54  2020-03-18  5080.580000\n",
      "69     55  2020-03-19  5151.610000\n",
      "70     56  2020-03-20  5190.780000\n",
      "71      0  2020-03-21  5125.150000\n",
      "72      0  2020-03-22  5059.520000\n",
      "73     57  2020-03-23  4993.890000\n",
      "74     58  2020-03-24  5446.010000\n",
      "75     59  2020-03-25  5688.200000\n",
      "76     60  2020-03-26  5815.730000\n",
      "77     61  2020-03-27  5510.330000\n",
      "78      0  2020-03-28  5528.133333\n",
      "79      0  2020-03-29  5545.936667\n",
      "80     62  2020-03-30  5563.740000\n",
      "81     63  2020-03-31  5671.960000\n",
      "82     64  2020-04-01  5454.570000\n",
      "83     65  2020-04-02  5480.220000\n",
      "84     66  2020-04-03  5415.500000\n",
      "85      0  2020-04-04  5471.130000\n",
      "86      0  2020-04-05  5526.760000\n",
      "87     67  2020-04-06  5582.390000\n"
     ]
    }
   ],
   "source": [
    "import datetime\n",
    "# reading data from csv file\n",
    "ftsedf= pd.read_csv(\"../data/ftse100.csv\")\n",
    "\n",
    "# Turning date columns into numbered duplicates\n",
    "s = ftsedf.columns.to_series()\n",
    "mask = ftsedf.columns.duplicated(keep=False)\n",
    "c = np.where(mask, s + '_'  + (s.groupby(s).cumcount() + 1).astype(str) , s)\n",
    "ftsedf.columns = c\n",
    "\n",
    "\n",
    "# lists for columns in the dataset\n",
    "dates = ['Date']\n",
    "indices = [\"FTSE 100\"]\n",
    "\n",
    "# turning dates with times into just dates\n",
    "ftsedf[dates] = ftsedf[dates].apply(pd.to_datetime, format='%m/%d/%Y %H:%M')\n",
    "for d in dates: ftsedf[d] = ftsedf[d].dt.date\n",
    "\n",
    "# # merging date columns into one filling any missing entries with \n",
    "# ftsedf = pd.concat([ftsedf[[d, i]].rename(columns={d: 'Date'}) for d in dates for i in indices]).dropna(how='all')\n",
    "# ftsedf = ftsedf.groupby('Date',as_index=False).apply(lambda x:x.ffill().bfill().drop_duplicates())\n",
    "\n",
    "# removing duplicate rows\n",
    "ftsedf = ftsedf.drop_duplicates(['Date']).set_index(['Date'])\n",
    "\n",
    "# # Normalizing the data\n",
    "# ftsedf=(ftsedf-ftsedf.min())/(ftsedf.max()-ftsedf.min())\n",
    "\n",
    "\n",
    "# ftsedf['date'] = ftsedf.index\n",
    "\n",
    "ftsedf = ftsedf.reset_index()\n",
    "\n",
    "\n",
    "\n",
    "startdate = datetime.date(2020,1,10)\n",
    "enddate = datetime.date(2020,4,7)\n",
    "\n",
    "\n",
    "\n",
    "delta = enddate - startdate\n",
    "for i in range(delta.days):\n",
    "    insertdate = (startdate + datetime.timedelta(days=i))\n",
    "    \n",
    "    if(insertdate.weekday() == 5):\n",
    "        start = ftsedf.loc[ftsedf['Date'] == (insertdate-datetime.timedelta(days=1))]\n",
    "        startvalue = ((start['FTSE 100'].values[0]))\n",
    "        \n",
    "        end = ftsedf.loc[ftsedf['Date'] == (insertdate+datetime.timedelta(days=2))]\n",
    "        endvalue = ((end['FTSE 100'].values[0]))\n",
    "        \n",
    "        \n",
    "        difference = endvalue - startvalue\n",
    "        saturdayvalue = startvalue + (difference /3)\n",
    "        sundayvalue = startvalue + ((difference/3)*2)\n",
    "        \n",
    "        saturday = pd.DataFrame({\"Date\":[insertdate], \"FTSE 100\":[saturdayvalue]})\n",
    "        ftsedf = ftsedf.append(saturday)\n",
    "        \n",
    "        sunday = pd.DataFrame({\"Date\":[insertdate+datetime.timedelta(days=1)], \"FTSE 100\":[sundayvalue]})\n",
    "        ftsedf = ftsedf.append(sunday)\n",
    "\n",
    "\n",
    "\n",
    "\n",
    "ftsedf = ftsedf[(ftsedf['Date'] >=datetime.date(2020,1,10))]\n",
    "ftsedf = ftsedf.sort_values(by=['Date']).reset_index()\n",
    "\n",
    "ftselist = (ftsedf['FTSE 100'].tolist())\n",
    "\n",
    "with pd.option_context('display.max_rows', None, 'display.max_columns', None):  # more options can be specified also\n",
    "    print(ftsedf)\n",
    "\n",
    "# displaying the dataframe\n",
    "#plt.figure()\n",
    "#print(df)\n",
    "\n",
    "#ax = df.plot(figsize=(20,10))\n",
    "#ax.grid()\n",
    "#ax.set_ylabel('Normalized Stock Price')"
   ]
  },
  {
   "cell_type": "code",
   "execution_count": 462,
   "metadata": {},
   "outputs": [
    {
     "data": {
      "image/png": "[encoded data removed]",
      "text/plain": [
       "<Figure size 432x288 with 2 Axes>"
      ]
     },
     "metadata": {
      "needs_background": "light"
     },
     "output_type": "display_data"
    }
   ],
   "source": [
    "import matplotlib.ticker as plticker\n",
    "xticks=[]\n",
    "xtickyes = 0\n",
    "xticksno = []\n",
    "spacing = 7\n",
    "for j in range(1,5):\n",
    "    for i in range(1,32):\n",
    "        if(not((j == 1 and i < 10) or (j == 2 and i > 29) or (j ==4 and i > 6))):\n",
    "            date = str(i).zfill(2) +\"-0\" + str(j) + \"-2020\" \n",
    "            if(xtickyes == 0):\n",
    "                xticks.append(date)\n",
    "            else:\n",
    "                xticksno.append(\" \")\n",
    "            xtickyes = (xtickyes + 1) % spacing\n",
    "xticks += xticksno\n",
    "loc = plticker.MultipleLocator(base=100) # this locator puts ticks at regular intervals\n",
    "ax.xaxis.set_major_locator(loc)\n",
    "fig, ax = plt.subplots()\n",
    "ax.plot(finalPanic, label='Panic Sentiment', color='orange')\n",
    "plt.xlabel(\"Date\", fontsize=13)\n",
    "plt.xticks(range(0, len(xticks)), xticks, rotation=40)\n",
    "ax2 = ax.twinx() \n",
    "ax2.plot(ftselist, label='FTSE 100')\n",
    "ax2.set_ylabel(\"FTSE 100 Price\")\n",
    "\n",
    "ax.set_ylabel(\"Panic Sentiment Level\", fontsize=13)\n",
    "ax.set_xticks(ax.get_xticks()[::spacing])\n",
    "for tick in ax.xaxis.get_majorticklabels():\n",
    "    tick.set_horizontalalignment(\"right\")\n",
    "ax.legend(loc=(0.38,0.9))\n",
    "ax2.legend(loc=(0.75,0.9))\n",
    "ax.margins(y=0.2)\n",
    "ax2.margins(y=0.2)\n",
    "plt.show()\n"
   ]
  },
  {
   "cell_type": "code",
   "execution_count": 463,
   "metadata": {},
   "outputs": [
    {
     "name": "stdout",
     "output_type": "stream",
     "text": [
      "-0.5486575697349654\n"
     ]
    }
   ],
   "source": [
    "from scipy.stats import pearsonr\n",
    "p, r = pearsonr(ftselist,finalPanic)\n",
    "print(p)"
   ]
  },
  {
   "cell_type": "code",
   "execution_count": null,
   "metadata": {},
   "outputs": [],
   "source": []
  }
 ],
 "metadata": {
  "kernelspec": {
   "display_name": "Python 3",
   "language": "python",
   "name": "python3"
  },
  "language_info": {
   "codemirror_mode": {
    "name": "ipython",
    "version": 3
   },
   "file_extension": ".py",
   "mimetype": "text/x-python",
   "name": "python",
   "nbconvert_exporter": "python",
   "pygments_lexer": "ipython3",
   "version": "3.7.6"
  }
 },
 "nbformat": 4,
 "nbformat_minor": 4
}
